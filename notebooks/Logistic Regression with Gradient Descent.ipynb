{
 "metadata": {
  "name": "Logistic Regression with Gradient Descent"
 },
 "nbformat": 3,
 "nbformat_minor": 0,
 "worksheets": [
  {
   "cells": [
    {
     "cell_type": "code",
     "collapsed": false,
     "input": [
      "import numpy as np\n",
      "\n",
      "n_inpt = 784\n",
      "n_output = 10\n",
      "\n",
      "def unpack_parameters(pars):\n",
      "    w = pars[:n_inpt * n_output].reshape((n_inpt, n_output))\n",
      "    b = pars[n_inpt * n_output:].reshape((1, n_output))\n",
      "    return w, b"
     ],
     "language": "python",
     "metadata": {},
     "outputs": [],
     "prompt_number": 22
    },
    {
     "cell_type": "code",
     "collapsed": false,
     "input": [
      "def predict(parameters, inpt):\n",
      "    w, b = unpack_parameters(parameters)\n",
      "    before_softmax = np.dot(inpt, w) + b\n",
      "    softmaxed = np.exp(before_softmax - before_softmax.max(axis=1)[:, np.newaxis])\n",
      "    return softmaxed / softmaxed.sum(axis=1)[:, np.newaxis]"
     ],
     "language": "python",
     "metadata": {},
     "outputs": [],
     "prompt_number": 3
    },
    {
     "cell_type": "code",
     "collapsed": false,
     "input": [
      "def loss(parameters, inpt, targets):\n",
      "    predictions = predict(parameters, inpt)\n",
      "    loss = -np.log(predictions) * targets\n",
      "    return loss.sum(axis=1).mean()"
     ],
     "language": "python",
     "metadata": {},
     "outputs": [],
     "prompt_number": 4
    },
    {
     "cell_type": "code",
     "collapsed": false,
     "input": [
      "def d_loss_wrt_pars(parameters, inpt, targets):\n",
      "    p = predict(parameters, inpt)\n",
      "    g_w = np.dot(inpt.T, p - targets) / inpt.shape[0]\n",
      "    g_b = (p - targets).mean(axis=0)\n",
      "    return np.concatenate([g_w.flatten(), g_b])\n"
     ],
     "language": "python",
     "metadata": {},
     "outputs": [],
     "prompt_number": 18
    },
    {
     "cell_type": "code",
     "collapsed": false,
     "input": [
      "wrt = np.empty(7850)"
     ],
     "language": "python",
     "metadata": {},
     "outputs": [],
     "prompt_number": 6
    },
    {
     "cell_type": "code",
     "collapsed": false,
     "input": [
      "import climin.initialize\n",
      "climin.initialize.randomize_normal(wrt, 0, 1)"
     ],
     "language": "python",
     "metadata": {},
     "outputs": [],
     "prompt_number": 7
    },
    {
     "cell_type": "code",
     "collapsed": false,
     "input": [
      "# You can get this at http://www.iro.umontreal.ca/~lisa/deep/data/mnist/mnist.pkl.gz\n",
      "\n",
      "import cPickle\n",
      "import gzip\n",
      "\n",
      "datafile = 'mnist.pkl.gz'\n",
      "# Load data.\n",
      "f = gzip.open(datafile,'rb')\n",
      "train_set, val_set, test_set = cPickle.load(f)\n",
      "f.close()\n",
      "\n",
      "X, Z = train_set\n",
      "VX, VZ = val_set\n",
      "TX, TZ = test_set\n",
      "\n",
      "def one_hot(arr):\n",
      "    result = np.zeros((arr.shape[0], 10))\n",
      "    result[xrange(arr.shape[0]), arr] = 1.\n",
      "    return result\n",
      "\n",
      "Z = one_hot(Z)\n",
      "VZ = one_hot(VZ)\n",
      "TZ = one_hot(TZ)"
     ],
     "language": "python",
     "metadata": {},
     "outputs": [],
     "prompt_number": 13
    },
    {
     "cell_type": "code",
     "collapsed": false,
     "input": [
      "import itertools\n",
      "args = itertools.repeat(([X, Z], {}))"
     ],
     "language": "python",
     "metadata": {},
     "outputs": [],
     "prompt_number": 14
    },
    {
     "cell_type": "code",
     "collapsed": false,
     "input": [
      "import climin\n",
      "opt = climin.GradientDescent(wrt, d_loss_wrt_pars, steprate=0.1, momentum=.95, args=args)"
     ],
     "language": "python",
     "metadata": {},
     "outputs": [],
     "prompt_number": 20
    },
    {
     "cell_type": "code",
     "collapsed": false,
     "input": [
      "import climin.initialize\n",
      "climin.initialize.randomize_normal(wrt, 0, .1)"
     ],
     "language": "python",
     "metadata": {},
     "outputs": [],
     "prompt_number": 27
    },
    {
     "cell_type": "code",
     "collapsed": false,
     "input": [
      "print loss(wrt, VX, VZ)   # prints something like 2.49771627484\n",
      "for info in opt:\n",
      "    if info['n_iter'] >= 100:\n",
      "        break\n",
      "print loss(wrt, VX, VZ)   # prints something like 0.324243334583"
     ],
     "language": "python",
     "metadata": {},
     "outputs": [
      {
       "output_type": "stream",
       "stream": "stdout",
       "text": [
        "2.46049235839\n",
        "0.317600039935"
       ]
      },
      {
       "output_type": "stream",
       "stream": "stdout",
       "text": [
        "\n"
       ]
      }
     ],
     "prompt_number": 28
    }
   ],
   "metadata": {}
  }
 ]
}